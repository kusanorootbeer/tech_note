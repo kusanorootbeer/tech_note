{
 "metadata": {
  "language_info": {
   "codemirror_mode": {
    "name": "ipython",
    "version": 3
   },
   "file_extension": ".py",
   "mimetype": "text/x-python",
   "name": "python",
   "nbconvert_exporter": "python",
   "pygments_lexer": "ipython3",
   "version": "3.8.2-final"
  },
  "orig_nbformat": 2,
  "kernelspec": {
   "name": "python3",
   "display_name": "Python 3.8.2 64-bit ('py38': conda)",
   "metadata": {
    "interpreter": {
     "hash": "eb59cdd4eaf157e9b8a6de033fd9bf2d374262f1226f1b16797b17954a678bcd"
    }
   }
  }
 },
 "nbformat": 4,
 "nbformat_minor": 2,
 "cells": [
  {
   "source": [
    "# CPU性能とクロック周波数色々"
   ],
   "cell_type": "markdown",
   "metadata": {}
  },
  {
   "source": [
    "基本情報技術者試験の勉強をしていて，クロック周波数について調べたので備忘録"
   ],
   "cell_type": "markdown",
   "metadata": {}
  },
  {
   "source": [
    "## クロック周波数には，内部クロックと外部クロックがあり，それぞれ別のものを指す．"
   ],
   "cell_type": "markdown",
   "metadata": {}
  },
  {
   "source": [
    "## 内部クロック\n",
    "CPUの動作，処理能力を示す．\n",
    "CPUのカタログに書いてある周波数はコレのこと．\n",
    "intelでは基本周波数(Base Freqency)と表記し，AMDでは基本クロック(Base Clock)と表記している．\n",
    "WikipediaではCPU周波数(CPU clock rate)と表記している．\n",
    "CPU-Zでは，Core-Speed (=Bus-Speed $\\times$ Multiplier)で表される．\n",
    "\n",
    "他の呼び名\n",
    "* 内部動作周波数"
   ],
   "cell_type": "markdown",
   "metadata": {}
  },
  {
   "source": [
    "## 外部クロック\n",
    "CPUと，RAMやキャッシュ間のデータの伝送路(バス)の動作周波数．\n",
    "一般に内部クロックよりも数倍小さい．\n",
    "CPU-Zでは，Bus-Speedで表される．\n",
    "\n",
    "他の呼び名\n",
    "* バスクロック\n",
    "* システムクロック\n",
    "* ベースクロック\n",
    "* 外部動作周波数"
   ],
   "cell_type": "markdown",
   "metadata": {}
  },
  {
   "source": [
    "## CPUと外部クロックの関係\n",
    "内部クロック$f_{in}$と，外部クロック$f_{out}$ の関係は，倍率$n$を用いて以下のように表せる．\n",
    "\n",
    "$$f_{in} = n \\times f_{out}$$\n",
    "$$n \\in \\mathbb{N}$$\n",
    "\n",
    "基本的に倍率$n$は定数であり，倍率$n$を初期値のまま動作させるものが定格クロックと呼ばれるものである．\n",
    "よく聞くOver Clock(OC)は，倍率$n$を上げて動作させることである．\n",
    "OCの限度はCPUごとに決まっており，OCが不可(倍率$n$が定数)なCPUも多い．"
   ],
   "cell_type": "markdown",
   "metadata": {}
  },
  {
   "source": [
    "## 所見\n",
    "一般にベースクロックは外部クロックのことを指すのに，CPUメーカー(intel, AMD)では基本周波数や基本クロックで内部クロックのことを指すのが意味分からん．"
   ],
   "cell_type": "markdown",
   "metadata": {}
  },
  {
   "source": [
    "### P.S.\n",
    "間違い等ありましたらご指摘いただけると喜びます．"
   ],
   "cell_type": "markdown",
   "metadata": {}
  },
  {
   "source": [
    "## 参考Links\n",
    " * [CPU-Z](https://www.cpuid.com/softwares/cpu-z.html)\n"
   ],
   "cell_type": "markdown",
   "metadata": {}
  }
 ]
}